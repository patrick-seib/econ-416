{
  "nbformat": 4,
  "nbformat_minor": 0,
  "metadata": {
    "colab": {
      "provenance": [],
      "authorship_tag": "ABX9TyMmB4tw/jcn3351ak0Vu1BP",
      "include_colab_link": true
    },
    "kernelspec": {
      "name": "python3",
      "display_name": "Python 3"
    },
    "language_info": {
      "name": "python"
    }
  },
  "cells": [
    {
      "cell_type": "markdown",
      "metadata": {
        "id": "view-in-github",
        "colab_type": "text"
      },
      "source": [
        "<a href=\"https://colab.research.google.com/github/patrick-seib/econ-416/blob/master/416_Project_3.ipynb\" target=\"_parent\"><img src=\"https://colab.research.google.com/assets/colab-badge.svg\" alt=\"Open In Colab\"/></a>"
      ]
    },
    {
      "cell_type": "code",
      "execution_count": 59,
      "metadata": {
        "colab": {
          "base_uri": "https://localhost:8080/"
        },
        "id": "0XGuBAfarqQh",
        "outputId": "0d5ddc85-0e9d-4a28-8d6e-429a4ce5f5a2"
      },
      "outputs": [
        {
          "output_type": "stream",
          "name": "stdout",
          "text": [
            "Drive already mounted at /content/drive/; to attempt to forcibly remount, call drive.mount(\"/content/drive/\", force_remount=True).\n"
          ]
        }
      ],
      "source": [
        "import numpy as np\n",
        "import pandas as pd\n",
        "from matplotlib import pyplot as plt\n",
        "import statistics\n",
        "import statsmodels\n",
        "from google.colab import drive\n",
        "from matplotlib import pyplot as plt\n",
        "drive.mount('/content/drive/')\n",
        "xls = pd.ExcelFile('/content/drive/My Drive/416_Data/dataEP3.xlsx')\n",
        "df_total = pd.read_excel(xls)\n",
        "\n",
        "df_risk_free = pd.read_excel(xls, 'Risk-Free Returns')\n",
        "df_market_returns = pd.read_excel(xls, 'Market Returns')\n",
        "df_portfolio_returns = pd.read_excel(xls, 'Portfolio Returns')"
      ]
    },
    {
      "cell_type": "code",
      "source": [
        "df_market_returns.Return /= 100"
      ],
      "metadata": {
        "id": "AoLNE9EI_c8A"
      },
      "execution_count": 163,
      "outputs": []
    },
    {
      "cell_type": "code",
      "source": [
        "df_risk_free.Return /= 100"
      ],
      "metadata": {
        "id": "zLSqnKqRvFEn"
      },
      "execution_count": 164,
      "outputs": []
    },
    {
      "cell_type": "code",
      "source": [
        "for x in range(1, 10):\n",
        "  df_portfolio_returns.iloc[:,x] /= 100"
      ],
      "metadata": {
        "id": "qcwg5udp_OvE"
      },
      "execution_count": 165,
      "outputs": []
    },
    {
      "cell_type": "markdown",
      "source": [
        "Calculating the mean, standard deviation and autocorrelation of both\n",
        "the market return and the risk-free rate. Produce a figure (plot) showing the\n",
        "value of your investment if you invested 1 in stocks in 1970, or in T-bills in \n",
        "Produce another figure, if you invested 1 in 2000 in stocks vs. T-bills.\n",
        "(Note: you need to accumulate the returns to take into account compounding,\n",
        "i.e. if you invest 1 on 1/1/1970 you have 1 × (1 + r1970,Jan) on 2/1/1970, and\n",
        "1 × (1 + r1970,Jan) × (1 + r1970,F eb) on 3/1/1970, etc.)"
      ],
      "metadata": {
        "id": "ERCXNJhgt9J0"
      }
    },
    {
      "cell_type": "code",
      "source": [
        "from statsmodels.graphics.tsaplots import plot_acf\n",
        "import statsmodels.api as sm\n",
        "\n",
        "def get_mean_std_autocorr(series):\n",
        "  series_list = series.to_list()\n",
        "  mean = statistics.mean(series_list)\n",
        "  std = statistics.stdev(series_list)\n",
        "  autocorrelation = sm.tsa.acf(series)\n",
        "\n",
        "  plot_acf(series)\n",
        "  print(\" Mean: \" + str(mean) + \"\\n Standard Deviation: \" + str(std) + \"\\n Auto-Correlation: \\n\" + str(autocorrelation))\n",
        "\n",
        "risk_free_returns = df_risk_free.Return\n",
        "print(\"Risk-Free Returns\")\n",
        "get_mean_std_autocorr(risk_free_returns)"
      ],
      "metadata": {
        "colab": {
          "base_uri": "https://localhost:8080/",
          "height": 437
        },
        "id": "P5vVAU_98VWa",
        "outputId": "9830f008-a149-4437-e515-7709326d4cf4"
      },
      "execution_count": 90,
      "outputs": [
        {
          "output_type": "stream",
          "name": "stdout",
          "text": [
            "Risk-Free Returns\n",
            " Mean: 0.04645333333333333\n",
            " Standard Deviation: 0.03395581763814089\n",
            " Auto-Correlation: \n",
            "[1.         0.98960979 0.97359474 0.95933897 0.94679999 0.93457743\n",
            " 0.92175524 0.91220394 0.90556331 0.89710178 0.88454547 0.87063121\n",
            " 0.85707558 0.84581316 0.83385805 0.81946763 0.80597851 0.79208115\n",
            " 0.77647391 0.75861246 0.74140814 0.72858227 0.71890131 0.70980495\n",
            " 0.70094017 0.69323753 0.68610999 0.67714304]\n"
          ]
        },
        {
          "output_type": "display_data",
          "data": {
            "text/plain": [
              "<Figure size 432x288 with 1 Axes>"
            ],
            "image/png": "[encoded data removed]"
          },
          "metadata": {
            "needs_background": "light"
          }
        }
      ]
    },
    {
      "cell_type": "code",
      "source": [
        "print(\"Market Returns\")\n",
        "get_mean_std_autocorr(df_market_returns.Return)"
      ],
      "metadata": {
        "colab": {
          "base_uri": "https://localhost:8080/",
          "height": 472
        },
        "id": "dsl_HwVorHVl",
        "outputId": "eb69cb48-932b-4095-8ff3-2d602d9c559b"
      },
      "execution_count": 91,
      "outputs": [
        {
          "output_type": "stream",
          "name": "stdout",
          "text": [
            "Market Returns\n",
            " Mean: 0.009191911666666667\n",
            " Standard Deviation: 0.04482400085744963\n",
            " Auto-Correlation: \n",
            "[ 1.00000000e+00  6.36737014e-02 -3.67976273e-02  2.15569673e-02\n",
            " -9.45795128e-04  5.11679224e-02 -6.95714933e-02 -7.74738084e-03\n",
            "  3.17433900e-03 -4.16632287e-02  3.23409085e-02 -1.40691793e-02\n",
            "  2.62177451e-02 -1.99845210e-02 -7.16668085e-02  1.47219224e-02\n",
            "  3.24407399e-03  2.56355159e-02 -3.39036942e-02  1.11773716e-02\n",
            " -4.18833986e-02 -4.32250908e-02 -3.43426094e-02 -2.69619711e-02\n",
            " -6.79127521e-03 -8.82346519e-03  5.57214641e-03  1.31212049e-02]\n"
          ]
        },
        {
          "output_type": "display_data",
          "data": {
            "text/plain": [
              "<Figure size 432x288 with 1 Axes>"
            ],
            "image/png": "[encoded data removed]"
          },
          "metadata": {
            "needs_background": "light"
          }
        }
      ]
    },
    {
      "cell_type": "markdown",
      "source": [
        "Showing the value of a $1 investment in risk-free assets."
      ],
      "metadata": {
        "id": "RR4COVvVrcEj"
      }
    },
    {
      "cell_type": "code",
      "source": [
        "def multiply_by_all_elements_in_series(series, variable):\n",
        "  series_list = series.to_list()\n",
        "  for x in series_list:\n",
        "    percent = 1 + x\n",
        "    if percent != 0:\n",
        "      variable = variable * percent\n",
        "  print(variable)\n",
        "\n",
        "dollar_val = 1\n",
        "multiply_by_all_elements_in_series(df_risk_free.Return, 1)"
      ],
      "metadata": {
        "colab": {
          "base_uri": "https://localhost:8080/"
        },
        "id": "gMjgOhPArvpr",
        "outputId": "ed5deb5f-d911-4867-8588-6d9bf1a2d781"
      },
      "execution_count": 95,
      "outputs": [
        {
          "output_type": "stream",
          "name": "stdout",
          "text": [
            "497245957658.3508\n"
          ]
        }
      ]
    },
    {
      "cell_type": "markdown",
      "source": [
        "And the Market Returns"
      ],
      "metadata": {
        "id": "acfqkzLvwMOE"
      }
    },
    {
      "cell_type": "code",
      "source": [
        "multiply_by_all_elements_in_series(df_market_returns.Return, 1)"
      ],
      "metadata": {
        "colab": {
          "base_uri": "https://localhost:8080/"
        },
        "id": "SoxTsGzXsuQN",
        "outputId": "fab65f45-8efb-462c-8322-03b5a386ea2b"
      },
      "execution_count": 96,
      "outputs": [
        {
          "output_type": "stream",
          "name": "stdout",
          "text": [
            "132.4193435635302\n"
          ]
        }
      ]
    },
    {
      "cell_type": "markdown",
      "source": [
        "x − 2σ/√\n",
        "T and x + 2σ/√T"
      ],
      "metadata": {
        "id": "d-UznQ7Qyfyg"
      }
    },
    {
      "cell_type": "code",
      "source": [
        "import math\n",
        "def std_error_bands(series):\n",
        "  series_list = series.to_list()\n",
        "  mean = statistics.mean(series_list)\n",
        "  print(\"Expected Return: \" + str(mean))\n",
        "  std = statistics.stdev(series_list)\n",
        "  lower_bound = mean - (2*(std)/math.sqrt(series.count()))\n",
        "  upper_bound = mean + (2*(std)/math.sqrt(series.count()))\n",
        "  print(\"Upper Bound: \" + str(upper_bound) + \"\\nLower Bound: \" + str(lower_bound))\n",
        "\n",
        "df_risk_free.Return.count()\n",
        "\n",
        "print(\"- First the Risk-Free Returns\")\n",
        "std_error_bands(df_risk_free.Return)\n",
        "print(\"- Then the Market Returns\")\n",
        "std_error_bands(df_market_returns.Return)"
      ],
      "metadata": {
        "colab": {
          "base_uri": "https://localhost:8080/"
        },
        "id": "PMkrvE_K1kIy",
        "outputId": "2a0f1597-458a-4136-9170-8d056b950e22"
      },
      "execution_count": 97,
      "outputs": [
        {
          "output_type": "stream",
          "name": "stdout",
          "text": [
            "- First the Risk-Free Returns\n",
            "Expected Return: 0.04645333333333333\n",
            "Upper Bound: 0.049225814233748076\n",
            "Lower Bound: 0.04368085243291859\n",
            "- Then the Market Returns\n",
            "Expected Return: 0.009191911666666667\n",
            "Upper Bound: 0.012851776011027575\n",
            "Lower Bound: 0.0055320473223057585\n"
          ]
        }
      ]
    },
    {
      "cell_type": "markdown",
      "source": [
        "Now for each of the 10 portfolios."
      ],
      "metadata": {
        "id": "O1j4vz3Nh_s6"
      }
    },
    {
      "cell_type": "code",
      "source": [
        "for x in range(1, 10):\n",
        "  print(\"Portfolio \" + str(x))\n",
        "  std_error_bands(df_portfolio_returns.iloc[:,x])"
      ],
      "metadata": {
        "colab": {
          "base_uri": "https://localhost:8080/"
        },
        "id": "G1fEJl1hiCTs",
        "outputId": "f8032ce6-b77e-4fc0-c487-e83898cee747"
      },
      "execution_count": 98,
      "outputs": [
        {
          "output_type": "stream",
          "name": "stdout",
          "text": [
            "Portfolio 1\n",
            "Expected Return: 0.009981833333333334\n",
            "Upper Bound: 0.015039360792019311\n",
            "Lower Bound: 0.004924305874647357\n",
            "Portfolio 2\n",
            "Expected Return: 0.0104685\n",
            "Upper Bound: 0.015650370492313527\n",
            "Lower Bound: 0.005286629507686474\n",
            "Portfolio 3\n",
            "Expected Return: 0.011191333333333333\n",
            "Upper Bound: 0.016112019993314155\n",
            "Lower Bound: 0.0062706466733525095\n",
            "Portfolio 4\n",
            "Expected Return: 0.010664\n",
            "Upper Bound: 0.015414236830226333\n",
            "Lower Bound: 0.0059137631697736654\n",
            "Portfolio 5\n",
            "Expected Return: 0.010965\n",
            "Upper Bound: 0.015569226077645177\n",
            "Lower Bound: 0.006360773922354824\n",
            "Portfolio 6\n",
            "Expected Return: 0.01077\n",
            "Upper Bound: 0.015095658586119897\n",
            "Lower Bound: 0.006444341413880103\n",
            "Portfolio 7\n",
            "Expected Return: 0.010926666666666666\n",
            "Upper Bound: 0.015196821655888863\n",
            "Lower Bound: 0.006656511677444469\n",
            "Portfolio 8\n",
            "Expected Return: 0.010670666666666667\n",
            "Upper Bound: 0.014818599278189067\n",
            "Lower Bound: 0.006522734055144267\n",
            "Portfolio 9\n",
            "Expected Return: 0.010091666666666667\n",
            "Upper Bound: 0.013898756059102301\n",
            "Lower Bound: 0.006284577274231034\n"
          ]
        }
      ]
    },
    {
      "cell_type": "markdown",
      "source": [
        "Also compute the volatility of each\n",
        "portfolio, and the Sharpe ratio E (ri − rf ) /σ (ri). Summarize these results"
      ],
      "metadata": {
        "id": "1mviwAfidQYO"
      }
    },
    {
      "cell_type": "code",
      "source": [
        "for x in range(1, 10):\n",
        "  print(\"Portfolio \" + str(x))\n",
        "  variance = df_portfolio_returns.iloc[:,x].var()\n",
        "  print(\"Variance is \" + str(variance))"
      ],
      "metadata": {
        "colab": {
          "base_uri": "https://localhost:8080/"
        },
        "id": "Pep4mYDNdMB7",
        "outputId": "c9db70fe-cadf-4383-f735-0b22bf0d14ae"
      },
      "execution_count": 99,
      "outputs": [
        {
          "output_type": "stream",
          "name": "stdout",
          "text": [
            "Portfolio 1\n",
            "Variance is 0.003836787599304396\n",
            "Portfolio 2\n",
            "Variance is 0.004027767269866444\n",
            "Portfolio 3\n",
            "Variance is 0.0036319735808569838\n",
            "Portfolio 4\n",
            "Variance is 0.0033847124914858097\n",
            "Portfolio 5\n",
            "Variance is 0.0031798346661101834\n",
            "Portfolio 6\n",
            "Variance is 0.002806698330550918\n",
            "Portfolio 7\n",
            "Variance is 0.0027351335447968832\n",
            "Portfolio 8\n",
            "Variance is 0.002580801742459655\n",
            "Portfolio 9\n",
            "Variance is 0.002174089446299388\n"
          ]
        }
      ]
    },
    {
      "cell_type": "markdown",
      "source": [
        " Sharpe ratio E (ri − rf ) /σ (ri)"
      ],
      "metadata": {
        "id": "9NByI8F9hqvj"
      }
    },
    {
      "cell_type": "code",
      "source": [
        "def get_sharpe_ratio(portfolio_with_risk, portfolio_risk_free):\n",
        "  risk_list = portfolio_with_risk.to_list()\n",
        "  no_risk_list = portfolio_risk_free.to_list()\n",
        "\n",
        "  r_i = statistics.mean(risk_list)\n",
        "  r_f = statistics.mean(no_risk_list)\n",
        "  std_ri = statistics.stdev(risk_list)\n",
        "\n",
        "  s_ratio = (r_i - r_f) / std_ri\n",
        "  print(\"Sharpe Ratio is \" + str(s_ratio))\n",
        "\n",
        "\n",
        "for x in range(1, 10):\n",
        "  print(\"Portfolio \" + str(x))\n",
        "  #variance = statistics.variance(df_portfolio_returns.iloc[:,x])\n",
        "  get_sharpe_ratio(df_portfolio_returns.iloc[:,x], df_risk_free.Return)\n",
        "  #print(\"Variance is \" + str(variance))"
      ],
      "metadata": {
        "colab": {
          "base_uri": "https://localhost:8080/"
        },
        "id": "x73aAA90hqFp",
        "outputId": "c46aa03d-7349-439f-cdf3-127ef02470a9"
      },
      "execution_count": 100,
      "outputs": [
        {
          "output_type": "stream",
          "name": "stdout",
          "text": [
            "Portfolio 1\n",
            "Sharpe Ratio is -0.5888026371495481\n",
            "Portfolio 2\n",
            "Sharpe Ratio is -0.5670055518659424\n",
            "Portfolio 3\n",
            "Sharpe Ratio is -0.5851074133784752\n",
            "Portfolio 4\n",
            "Sharpe Ratio is -0.6151665557895358\n",
            "Portfolio 5\n",
            "Sharpe Ratio is -0.6293370990225112\n",
            "Portfolio 6\n",
            "Sharpe Ratio is -0.6735464457657375\n",
            "Portfolio 7\n",
            "Sharpe Ratio is -0.6793055975323276\n",
            "Portfolio 8\n",
            "Sharpe Ratio is -0.7043611294130125\n",
            "Portfolio 9\n",
            "Sharpe Ratio is -0.779839227551549\n"
          ]
        }
      ]
    },
    {
      "cell_type": "markdown",
      "source": [
        "(c) Compute the beta of each portfolio. Hint: you can use the definition of β as\n",
        "Cov (ri, rm) /Var (rm)."
      ],
      "metadata": {
        "id": "W8iLMAwJiLo6"
      }
    },
    {
      "cell_type": "code",
      "source": [
        "import statistics\n",
        "import numpy as np\n",
        "\n",
        "def compute_beta(portfolio, market):\n",
        "  portfolio_list = portfolio.to_list()\n",
        "  market_list = market.to_list()\n",
        "  cov = np.corrcoef(portfolio_list, market_list)[0,1]\n",
        "  var = statistics.variance(market_list)\n",
        "  beta = cov/var\n",
        "  return beta\n",
        "\n",
        "for x in range(1, 10):\n",
        "  print(\"Portfolio \" + str(x))\n",
        "  returned = compute_beta(df_portfolio_returns.iloc[:,x], df_market_returns.Return)\n",
        "  print(\"Beta with the market is: \" + str(returned))"
      ],
      "metadata": {
        "colab": {
          "base_uri": "https://localhost:8080/"
        },
        "id": "Uis8Qr9diQ5b",
        "outputId": "00cd493a-9aec-4028-bb91-c11162a09e16"
      },
      "execution_count": 119,
      "outputs": [
        {
          "output_type": "stream",
          "name": "stdout",
          "text": [
            "Portfolio 1\n",
            "Beta with the market is: 389.8071694031089\n",
            "Portfolio 2\n",
            "Beta with the market is: 420.93205070044945\n",
            "Portfolio 3\n",
            "Beta with the market is: 439.6752246217351\n",
            "Portfolio 4\n",
            "Beta with the market is: 445.60349532603607\n",
            "Portfolio 5\n",
            "Beta with the market is: 457.9680243266665\n",
            "Portfolio 6\n",
            "Beta with the market is: 466.03140408689165\n",
            "Portfolio 7\n",
            "Beta with the market is: 475.3021400999367\n",
            "Portfolio 8\n",
            "Beta with the market is: 480.1131494441079\n",
            "Portfolio 9\n",
            "Beta with the market is: 485.54315456716887\n"
          ]
        }
      ]
    },
    {
      "cell_type": "markdown",
      "source": [
        "Produce a figure where the x-axis is the beta, and the y-axis the mean excess return E (ri − rf ). Discuss how well the CAPM fits these data"
      ],
      "metadata": {
        "id": "-0ity2rbPZFI"
      }
    },
    {
      "cell_type": "code",
      "source": [
        "betas = []\n",
        "for x in range(1,10):\n",
        "  variable = compute_beta(df_portfolio_returns.iloc[:,(x)], df_market_returns.Return)\n",
        "  betas.append(variable)\n",
        "\n",
        "mean_excess_returns = []\n",
        "for i in range(1, 10):\n",
        "  temp = df_portfolio_returns.iloc[:,i]\n",
        "  x = statistics.mean(temp)\n",
        "  y = df_risk_free.Return.mean()\n",
        "  variable = x - y\n",
        "  mean_excess_returns.append(variable)\n",
        "\n",
        "plt.plot(betas, mean_excess_returns)\n",
        "plt.xlabel('Beta (cov(ri, rm)/Var(rm))')\n",
        "plt.ylabel('Mean Excess Return E(ri - rf)')\n",
        "plt.title('Mean Excess Return vs Beta')\n",
        "plt.show()"
      ],
      "metadata": {
        "colab": {
          "base_uri": "https://localhost:8080/",
          "height": 451
        },
        "id": "oOs__OCgPiYY",
        "outputId": "167667f3-c9e1-4395-f26f-2216aa4ee869"
      },
      "execution_count": 123,
      "outputs": [
        {
          "output_type": "stream",
          "name": "stdout",
          "text": [
            "Beta with the market is: 389.8071694031089\n",
            "Beta with the market is: 420.93205070044945\n",
            "Beta with the market is: 439.6752246217351\n",
            "Beta with the market is: 445.60349532603607\n",
            "Beta with the market is: 457.9680243266665\n",
            "Beta with the market is: 466.03140408689165\n",
            "Beta with the market is: 475.3021400999367\n",
            "Beta with the market is: 480.1131494441079\n",
            "Beta with the market is: 485.54315456716887\n"
          ]
        },
        {
          "output_type": "display_data",
          "data": {
            "text/plain": [
              "<Figure size 432x288 with 1 Axes>"
            ],
            "image/png": "[encoded data removed]"
          },
          "metadata": {
            "needs_background": "light"
          }
        }
      ]
    },
    {
      "cell_type": "markdown",
      "source": [
        "The CAPM model seems to fit parts of the data very well, but other parts, particularly at the end of the distribution, seem to fall apart.\n",
        "\n",
        "Another test of the CAPM is to check if the intercept i is significant in the time\u0002series regression:\n",
        "rit − rf t = αi + βi (rmt − rf t) + εit"
      ],
      "metadata": {
        "id": "AcTfs3h7vRMP"
      }
    },
    {
      "cell_type": "code",
      "source": [
        "import statsmodels.api as sm\n",
        "from datetime import datetime\n",
        "\n",
        "for i in range(1,10):\n",
        "  X = (df_portfolio_returns.iloc[:,i] - df_risk_free.Return)\n",
        "  y = []\n",
        "  for j in df_risk_free.Return.index:\n",
        "    y.append(j)\n",
        "  X = sm.add_constant(X)\n",
        "\n",
        "  model = sm.OLS(y, X).fit()\n",
        "  print(model.summary())"
      ],
      "metadata": {
        "colab": {
          "base_uri": "https://localhost:8080/"
        },
        "id": "JSZO6n0qvg1x",
        "outputId": "e4255aef-89f3-4077-ac21-57e14be282c3"
      },
      "execution_count": 172,
      "outputs": [
        {
          "output_type": "stream",
          "name": "stdout",
          "text": [
            "                            OLS Regression Results                            \n",
            "==============================================================================\n",
            "Dep. Variable:                      y   R-squared:                       0.114\n",
            "Model:                            OLS   Adj. R-squared:                  0.113\n",
            "Method:                 Least Squares   F-statistic:                     77.05\n",
            "Date:                Tue, 28 Mar 2023   Prob (F-statistic):           1.74e-17\n",
            "Time:                        02:05:05   Log-Likelihood:                -3907.7\n",
            "No. Observations:                 600   AIC:                             7819.\n",
            "Df Residuals:                     598   BIC:                             7828.\n",
            "Df Model:                           1                                         \n",
            "Covariance Type:            nonrobust                                         \n",
            "==============================================================================\n",
            "                 coef    std err          t      P>|t|      [0.025      0.975]\n",
            "------------------------------------------------------------------------------\n",
            "const        329.2169      7.477     44.032      0.000     314.533     343.901\n",
            "0            814.7980     92.823      8.778      0.000     632.499     997.097\n",
            "==============================================================================\n",
            "Omnibus:                       35.247   Durbin-Watson:                   0.151\n",
            "Prob(Omnibus):                  0.000   Jarque-Bera (JB):               14.817\n",
            "Skew:                          -0.126   Prob(JB):                     0.000606\n",
            "Kurtosis:                       2.273   Cond. No.                         13.9\n",
            "==============================================================================\n",
            "\n",
            "Notes:\n",
            "[1] Standard Errors assume that the covariance matrix of the errors is correctly specified.\n",
            "                            OLS Regression Results                            \n",
            "==============================================================================\n",
            "Dep. Variable:                      y   R-squared:                       0.115\n",
            "Model:                            OLS   Adj. R-squared:                  0.114\n",
            "Method:                 Least Squares   F-statistic:                     77.76\n",
            "Date:                Tue, 28 Mar 2023   Prob (F-statistic):           1.27e-17\n",
            "Time:                        02:05:05   Log-Likelihood:                -3907.4\n",
            "No. Observations:                 600   AIC:                             7819.\n",
            "Df Residuals:                     598   BIC:                             7828.\n",
            "Df Model:                           1                                         \n",
            "Covariance Type:            nonrobust                                         \n",
            "==============================================================================\n",
            "                 coef    std err          t      P>|t|      [0.025      0.975]\n",
            "------------------------------------------------------------------------------\n",
            "const        328.5436      7.433     44.204      0.000     313.947     343.141\n",
            "0            807.1078     91.528      8.818      0.000     627.352     986.863\n",
            "==============================================================================\n",
            "Omnibus:                       42.903   Durbin-Watson:                   0.174\n",
            "Prob(Omnibus):                  0.000   Jarque-Bera (JB):               15.992\n",
            "Skew:                          -0.101   Prob(JB):                     0.000337\n",
            "Kurtosis:                       2.226   Cond. No.                         13.8\n",
            "==============================================================================\n",
            "\n",
            "Notes:\n",
            "[1] Standard Errors assume that the covariance matrix of the errors is correctly specified.\n",
            "                            OLS Regression Results                            \n",
            "==============================================================================\n",
            "Dep. Variable:                      y   R-squared:                       0.127\n",
            "Model:                            OLS   Adj. R-squared:                  0.125\n",
            "Method:                 Least Squares   F-statistic:                     86.88\n",
            "Date:                Tue, 28 Mar 2023   Prob (F-statistic):           2.20e-19\n",
            "Time:                        02:05:05   Log-Likelihood:                -3903.4\n",
            "No. Observations:                 600   AIC:                             7811.\n",
            "Df Residuals:                     598   BIC:                             7820.\n",
            "Df Model:                           1                                         \n",
            "Covariance Type:            nonrobust                                         \n",
            "==============================================================================\n",
            "                 coef    std err          t      P>|t|      [0.025      0.975]\n",
            "------------------------------------------------------------------------------\n",
            "const        330.5527      7.410     44.611      0.000     316.001     345.105\n",
            "0            880.6278     94.481      9.321      0.000     695.074    1066.182\n",
            "==============================================================================\n",
            "Omnibus:                       32.580   Durbin-Watson:                   0.193\n",
            "Prob(Omnibus):                  0.000   Jarque-Bera (JB):               14.169\n",
            "Skew:                          -0.125   Prob(JB):                     0.000838\n",
            "Kurtosis:                       2.290   Cond. No.                         14.3\n",
            "==============================================================================\n",
            "\n",
            "Notes:\n",
            "[1] Standard Errors assume that the covariance matrix of the errors is correctly specified.\n",
            "                            OLS Regression Results                            \n",
            "==============================================================================\n",
            "Dep. Variable:                      y   R-squared:                       0.127\n",
            "Model:                            OLS   Adj. R-squared:                  0.125\n",
            "Method:                 Least Squares   F-statistic:                     86.69\n",
            "Date:                Tue, 28 Mar 2023   Prob (F-statistic):           2.39e-19\n",
            "Time:                        02:05:05   Log-Likelihood:                -3903.4\n",
            "No. Observations:                 600   AIC:                             7811.\n",
            "Df Residuals:                     598   BIC:                             7820.\n",
            "Df Model:                           1                                         \n",
            "Covariance Type:            nonrobust                                         \n",
            "==============================================================================\n",
            "                 coef    std err          t      P>|t|      [0.025      0.975]\n",
            "------------------------------------------------------------------------------\n",
            "const        331.9447      7.481     44.374      0.000     317.253     346.636\n",
            "0            906.5479     97.367      9.311      0.000     715.325    1097.771\n",
            "==============================================================================\n",
            "Omnibus:                       35.917   Durbin-Watson:                   0.192\n",
            "Prob(Omnibus):                  0.000   Jarque-Bera (JB):               14.927\n",
            "Skew:                          -0.124   Prob(JB):                     0.000574\n",
            "Kurtosis:                       2.268   Cond. No.                         14.7\n",
            "==============================================================================\n",
            "\n",
            "Notes:\n",
            "[1] Standard Errors assume that the covariance matrix of the errors is correctly specified.\n",
            "                            OLS Regression Results                            \n",
            "==============================================================================\n",
            "Dep. Variable:                      y   R-squared:                       0.134\n",
            "Model:                            OLS   Adj. R-squared:                  0.132\n",
            "Method:                 Least Squares   F-statistic:                     92.48\n",
            "Date:                Tue, 28 Mar 2023   Prob (F-statistic):           1.88e-20\n",
            "Time:                        02:05:05   Log-Likelihood:                -3900.9\n",
            "No. Observations:                 600   AIC:                             7806.\n",
            "Df Residuals:                     598   BIC:                             7815.\n",
            "Df Model:                           1                                         \n",
            "Covariance Type:            nonrobust                                         \n",
            "==============================================================================\n",
            "                 coef    std err          t      P>|t|      [0.025      0.975]\n",
            "------------------------------------------------------------------------------\n",
            "const        333.3668      7.473     44.608      0.000     318.690     348.044\n",
            "0            954.3088     99.236      9.617      0.000     759.415    1149.203\n",
            "==============================================================================\n",
            "Omnibus:                       33.187   Durbin-Watson:                   0.202\n",
            "Prob(Omnibus):                  0.000   Jarque-Bera (JB):               14.165\n",
            "Skew:                          -0.117   Prob(JB):                     0.000840\n",
            "Kurtosis:                       2.284   Cond. No.                         15.1\n",
            "==============================================================================\n",
            "\n",
            "Notes:\n",
            "[1] Standard Errors assume that the covariance matrix of the errors is correctly specified.\n",
            "                            OLS Regression Results                            \n",
            "==============================================================================\n",
            "Dep. Variable:                      y   R-squared:                       0.153\n",
            "Model:                            OLS   Adj. R-squared:                  0.151\n",
            "Method:                 Least Squares   F-statistic:                     107.9\n",
            "Date:                Tue, 28 Mar 2023   Prob (F-statistic):           2.35e-23\n",
            "Time:                        02:05:05   Log-Likelihood:                -3894.3\n",
            "No. Observations:                 600   AIC:                             7793.\n",
            "Df Residuals:                     598   BIC:                             7801.\n",
            "Df Model:                           1                                         \n",
            "Covariance Type:            nonrobust                                         \n",
            "==============================================================================\n",
            "                 coef    std err          t      P>|t|      [0.025      0.975]\n",
            "------------------------------------------------------------------------------\n",
            "const        337.3428      7.468     45.174      0.000     322.677     352.009\n",
            "0           1060.5171    102.082     10.389      0.000     860.033    1261.001\n",
            "==============================================================================\n",
            "Omnibus:                       24.196   Durbin-Watson:                   0.227\n",
            "Prob(Omnibus):                  0.000   Jarque-Bera (JB):               12.635\n",
            "Skew:                          -0.159   Prob(JB):                      0.00180\n",
            "Kurtosis:                       2.364   Cond. No.                         15.7\n",
            "==============================================================================\n",
            "\n",
            "Notes:\n",
            "[1] Standard Errors assume that the covariance matrix of the errors is correctly specified.\n",
            "                            OLS Regression Results                            \n",
            "==============================================================================\n",
            "Dep. Variable:                      y   R-squared:                       0.154\n",
            "Model:                            OLS   Adj. R-squared:                  0.153\n",
            "Method:                 Least Squares   F-statistic:                     109.1\n",
            "Date:                Tue, 28 Mar 2023   Prob (F-statistic):           1.40e-23\n",
            "Time:                        02:05:05   Log-Likelihood:                -3893.8\n",
            "No. Observations:                 600   AIC:                             7792.\n",
            "Df Residuals:                     598   BIC:                             7800.\n",
            "Df Model:                           1                                         \n",
            "Covariance Type:            nonrobust                                         \n",
            "==============================================================================\n",
            "                 coef    std err          t      P>|t|      [0.025      0.975]\n",
            "------------------------------------------------------------------------------\n",
            "const        337.8284      7.475     45.191      0.000     323.147     352.510\n",
            "0           1078.8635    103.266     10.447      0.000     876.056    1281.671\n",
            "==============================================================================\n",
            "Omnibus:                       19.387   Durbin-Watson:                   0.231\n",
            "Prob(Omnibus):                  0.000   Jarque-Bera (JB):               11.156\n",
            "Skew:                          -0.161   Prob(JB):                      0.00378\n",
            "Kurtosis:                       2.415   Cond. No.                         15.9\n",
            "==============================================================================\n",
            "\n",
            "Notes:\n",
            "[1] Standard Errors assume that the covariance matrix of the errors is correctly specified.\n",
            "                            OLS Regression Results                            \n",
            "==============================================================================\n",
            "Dep. Variable:                      y   R-squared:                       0.165\n",
            "Model:                            OLS   Adj. R-squared:                  0.164\n",
            "Method:                 Least Squares   F-statistic:                     118.4\n",
            "Date:                Tue, 28 Mar 2023   Prob (F-statistic):           2.80e-25\n",
            "Time:                        02:05:05   Log-Likelihood:                -3889.9\n",
            "No. Observations:                 600   AIC:                             7784.\n",
            "Df Residuals:                     598   BIC:                             7793.\n",
            "Df Model:                           1                                         \n",
            "Covariance Type:            nonrobust                                         \n",
            "==============================================================================\n",
            "                 coef    std err          t      P>|t|      [0.025      0.975]\n",
            "------------------------------------------------------------------------------\n",
            "const        340.2126      7.475     45.512      0.000     325.532     354.894\n",
            "0           1137.7753    104.575     10.880      0.000     932.397    1343.154\n",
            "==============================================================================\n",
            "Omnibus:                       21.490   Durbin-Watson:                   0.251\n",
            "Prob(Omnibus):                  0.000   Jarque-Bera (JB):               12.130\n",
            "Skew:                          -0.173   Prob(JB):                      0.00232\n",
            "Kurtosis:                       2.396   Cond. No.                         16.2\n",
            "==============================================================================\n",
            "\n",
            "Notes:\n",
            "[1] Standard Errors assume that the covariance matrix of the errors is correctly specified.\n",
            "                            OLS Regression Results                            \n",
            "==============================================================================\n",
            "Dep. Variable:                      y   R-squared:                       0.187\n",
            "Model:                            OLS   Adj. R-squared:                  0.186\n",
            "Method:                 Least Squares   F-statistic:                     137.9\n",
            "Date:                Tue, 28 Mar 2023   Prob (F-statistic):           8.48e-29\n",
            "Time:                        02:05:05   Log-Likelihood:                -3881.8\n",
            "No. Observations:                 600   AIC:                             7768.\n",
            "Df Residuals:                     598   BIC:                             7776.\n",
            "Df Model:                           1                                         \n",
            "Covariance Type:            nonrobust                                         \n",
            "==============================================================================\n",
            "                 coef    std err          t      P>|t|      [0.025      0.975]\n",
            "------------------------------------------------------------------------------\n",
            "const        346.3256      7.528     46.007      0.000     331.542     361.110\n",
            "0           1287.7733    109.661     11.743      0.000    1072.405    1503.142\n",
            "==============================================================================\n",
            "Omnibus:                       15.682   Durbin-Watson:                   0.277\n",
            "Prob(Omnibus):                  0.000   Jarque-Bera (JB):               10.539\n",
            "Skew:                          -0.194   Prob(JB):                      0.00515\n",
            "Kurtosis:                       2.479   Cond. No.                         17.2\n",
            "==============================================================================\n",
            "\n",
            "Notes:\n",
            "[1] Standard Errors assume that the covariance matrix of the errors is correctly specified.\n"
          ]
        }
      ]
    },
    {
      "cell_type": "markdown",
      "source": [
        "The formula is called the Markowitz mean-variance optimization. It is a portfolio optimization technique that helps investors maximize expected returns for a given level of risk by selecting the proportions of various assets in their portfolios. The optimal allocation among N risky assets can be calculated using this formula if the variance matrix is Ω and the vector of mean excess returns is ¯r. \n",
        "\n",
        "The formula to create a variance covariance matrix is as follows – Where, k = number of stocks in the portfolio n = number of observations X = this is the n x k excess return matrix."
      ],
      "metadata": {
        "id": "HEWvYGQACVrd"
      }
    },
    {
      "cell_type": "code",
      "source": [
        "!pip install PyPortfolioOpt"
      ],
      "metadata": {
        "colab": {
          "base_uri": "https://localhost:8080/"
        },
        "id": "LHer3WqyDnBu",
        "outputId": "c9a2421c-c49a-4360-ae79-dd9b2da4a09a"
      },
      "execution_count": 179,
      "outputs": [
        {
          "output_type": "stream",
          "name": "stdout",
          "text": [
            "Looking in indexes: https://pypi.org/simple, https://us-python.pkg.dev/colab-wheels/public/simple/\n",
            "Requirement already satisfied: PyPortfolioOpt in /usr/local/lib/python3.9/dist-packages (1.5.4)\n",
            "Requirement already satisfied: cvxpy<2.0.0,>=1.1.10 in /usr/local/lib/python3.9/dist-packages (from PyPortfolioOpt) (1.3.1)\n",
            "Requirement already satisfied: pandas>=0.19 in /usr/local/lib/python3.9/dist-packages (from PyPortfolioOpt) (1.4.4)\n",
            "Requirement already satisfied: scipy<2.0,>=1.3 in /usr/local/lib/python3.9/dist-packages (from PyPortfolioOpt) (1.10.1)\n",
            "Requirement already satisfied: numpy<2.0.0,>=1.22.4 in /usr/local/lib/python3.9/dist-packages (from PyPortfolioOpt) (1.22.4)\n",
            "Requirement already satisfied: ecos>=2 in /usr/local/lib/python3.9/dist-packages (from cvxpy<2.0.0,>=1.1.10->PyPortfolioOpt) (2.0.12)\n",
            "Requirement already satisfied: setuptools>65.5.1 in /usr/local/lib/python3.9/dist-packages (from cvxpy<2.0.0,>=1.1.10->PyPortfolioOpt) (67.6.0)\n",
            "Requirement already satisfied: scs>=1.1.6 in /usr/local/lib/python3.9/dist-packages (from cvxpy<2.0.0,>=1.1.10->PyPortfolioOpt) (3.2.2)\n",
            "Requirement already satisfied: osqp>=0.4.1 in /usr/local/lib/python3.9/dist-packages (from cvxpy<2.0.0,>=1.1.10->PyPortfolioOpt) (0.6.2.post0)\n",
            "Requirement already satisfied: pytz>=2020.1 in /usr/local/lib/python3.9/dist-packages (from pandas>=0.19->PyPortfolioOpt) (2022.7.1)\n",
            "Requirement already satisfied: python-dateutil>=2.8.1 in /usr/local/lib/python3.9/dist-packages (from pandas>=0.19->PyPortfolioOpt) (2.8.2)\n",
            "Requirement already satisfied: qdldl in /usr/local/lib/python3.9/dist-packages (from osqp>=0.4.1->cvxpy<2.0.0,>=1.1.10->PyPortfolioOpt) (0.1.5.post3)\n",
            "Requirement already satisfied: six>=1.5 in /usr/local/lib/python3.9/dist-packages (from python-dateutil>=2.8.1->pandas>=0.19->PyPortfolioOpt) (1.16.0)\n"
          ]
        }
      ]
    },
    {
      "cell_type": "code",
      "source": [
        "from pypfopt.efficient_frontier import EfficientFrontier\n",
        "from pypfopt import risk_models\n",
        "from pypfopt import expected_returns\n",
        "\n",
        "# Calculate expected returns and sample covariance\n",
        "mu = expected_returns.mean_historical_return(df_portfolio_returns.Portfolio1)\n",
        "S = risk_models.sample_cov(df_portfolio_returns.Portfolio1)\n",
        "\n",
        "# Optimize for maximal Sharpe ratio\n",
        "ef = EfficientFrontier(mu, S)\n",
        "weights = ef.max_sharpe()\n",
        "cleaned_weights = ef.clean_weights()\n",
        "print(cleaned_weights)\n",
        "ef.portfolio_performance(verbose=True)"
      ],
      "metadata": {
        "colab": {
          "base_uri": "https://localhost:8080/",
          "height": 589
        },
        "id": "Aw9vot8OCUpB",
        "outputId": "5a2ec902-0267-4a6c-c9cd-19b2046b9ca9"
      },
      "execution_count": 178,
      "outputs": [
        {
          "output_type": "stream",
          "name": "stderr",
          "text": [
            "/usr/local/lib/python3.9/dist-packages/pypfopt/expected_returns.py:136: RuntimeWarning: prices are not in a dataframe\n",
            "  warnings.warn(\"prices are not in a dataframe\", RuntimeWarning)\n",
            "/usr/local/lib/python3.9/dist-packages/pypfopt/risk_models.py:165: RuntimeWarning: data is not in a dataframe\n",
            "  warnings.warn(\"data is not in a dataframe\", RuntimeWarning)\n"
          ]
        },
        {
          "output_type": "stream",
          "name": "stdout",
          "text": [
            "ERROR in LDL_factor: Error in KKT matrix LDL factorization when computing the nonzero elements. The problem seems to be non-convex\n",
            "ERROR in osqp_setup: KKT matrix factorization.\n",
            "The problem seems to be non-convex.\n"
          ]
        },
        {
          "output_type": "error",
          "ename": "SolverError",
          "evalue": "ignored",
          "traceback": [
            "\u001b[0;31m---------------------------------------------------------------------------\u001b[0m",
            "\u001b[0;31mValueError\u001b[0m                                Traceback (most recent call last)",
            "\u001b[0;32m/usr/local/lib/python3.9/dist-packages/cvxpy/reductions/solvers/qp_solvers/osqp_qpif.py\u001b[0m in \u001b[0;36msolve_via_data\u001b[0;34m(self, data, warm_start, verbose, solver_opts, solver_cache)\u001b[0m\n\u001b[1;32m    101\u001b[0m             \u001b[0;32mtry\u001b[0m\u001b[0;34m:\u001b[0m\u001b[0;34m\u001b[0m\u001b[0;34m\u001b[0m\u001b[0m\n\u001b[0;32m--> 102\u001b[0;31m                 \u001b[0msolver\u001b[0m\u001b[0;34m.\u001b[0m\u001b[0msetup\u001b[0m\u001b[0;34m(\u001b[0m\u001b[0mP\u001b[0m\u001b[0;34m,\u001b[0m \u001b[0mq\u001b[0m\u001b[0;34m,\u001b[0m \u001b[0mA\u001b[0m\u001b[0;34m,\u001b[0m \u001b[0mlA\u001b[0m\u001b[0;34m,\u001b[0m \u001b[0muA\u001b[0m\u001b[0;34m,\u001b[0m \u001b[0mverbose\u001b[0m\u001b[0;34m=\u001b[0m\u001b[0mverbose\u001b[0m\u001b[0;34m,\u001b[0m \u001b[0;34m**\u001b[0m\u001b[0msolver_opts\u001b[0m\u001b[0;34m)\u001b[0m\u001b[0;34m\u001b[0m\u001b[0;34m\u001b[0m\u001b[0m\n\u001b[0m\u001b[1;32m    103\u001b[0m             \u001b[0;32mexcept\u001b[0m \u001b[0mValueError\u001b[0m \u001b[0;32mas\u001b[0m \u001b[0me\u001b[0m\u001b[0;34m:\u001b[0m\u001b[0;34m\u001b[0m\u001b[0;34m\u001b[0m\u001b[0m\n",
            "\u001b[0;32m/usr/local/lib/python3.9/dist-packages/osqp/interface.py\u001b[0m in \u001b[0;36msetup\u001b[0;34m(self, P, q, A, l, u, **settings)\u001b[0m\n\u001b[1;32m     36\u001b[0m         \u001b[0munpacked_data\u001b[0m\u001b[0;34m,\u001b[0m \u001b[0msettings\u001b[0m \u001b[0;34m=\u001b[0m \u001b[0mutils\u001b[0m\u001b[0;34m.\u001b[0m\u001b[0mprepare_data\u001b[0m\u001b[0;34m(\u001b[0m\u001b[0mP\u001b[0m\u001b[0;34m,\u001b[0m \u001b[0mq\u001b[0m\u001b[0;34m,\u001b[0m \u001b[0mA\u001b[0m\u001b[0;34m,\u001b[0m \u001b[0ml\u001b[0m\u001b[0;34m,\u001b[0m \u001b[0mu\u001b[0m\u001b[0;34m,\u001b[0m \u001b[0;34m**\u001b[0m\u001b[0msettings\u001b[0m\u001b[0;34m)\u001b[0m\u001b[0;34m\u001b[0m\u001b[0;34m\u001b[0m\u001b[0m\n\u001b[0;32m---> 37\u001b[0;31m         \u001b[0mself\u001b[0m\u001b[0;34m.\u001b[0m\u001b[0m_model\u001b[0m\u001b[0;34m.\u001b[0m\u001b[0msetup\u001b[0m\u001b[0;34m(\u001b[0m\u001b[0;34m*\u001b[0m\u001b[0munpacked_data\u001b[0m\u001b[0;34m,\u001b[0m \u001b[0;34m**\u001b[0m\u001b[0msettings\u001b[0m\u001b[0;34m)\u001b[0m\u001b[0;34m\u001b[0m\u001b[0;34m\u001b[0m\u001b[0m\n\u001b[0m\u001b[1;32m     38\u001b[0m \u001b[0;34m\u001b[0m\u001b[0m\n",
            "\u001b[0;31mValueError\u001b[0m: Workspace allocation error!",
            "\nDuring handling of the above exception, another exception occurred:\n",
            "\u001b[0;31mSolverError\u001b[0m                               Traceback (most recent call last)",
            "\u001b[0;32m<ipython-input-178-a4d0f9c6ce6d>\u001b[0m in \u001b[0;36m<module>\u001b[0;34m\u001b[0m\n\u001b[1;32m      9\u001b[0m \u001b[0;31m# Optimize for maximal Sharpe ratio\u001b[0m\u001b[0;34m\u001b[0m\u001b[0;34m\u001b[0m\u001b[0m\n\u001b[1;32m     10\u001b[0m \u001b[0mef\u001b[0m \u001b[0;34m=\u001b[0m \u001b[0mEfficientFrontier\u001b[0m\u001b[0;34m(\u001b[0m\u001b[0mmu\u001b[0m\u001b[0;34m,\u001b[0m \u001b[0mS\u001b[0m\u001b[0;34m)\u001b[0m\u001b[0;34m\u001b[0m\u001b[0;34m\u001b[0m\u001b[0m\n\u001b[0;32m---> 11\u001b[0;31m \u001b[0mweights\u001b[0m \u001b[0;34m=\u001b[0m \u001b[0mef\u001b[0m\u001b[0;34m.\u001b[0m\u001b[0mmax_sharpe\u001b[0m\u001b[0;34m(\u001b[0m\u001b[0;34m)\u001b[0m\u001b[0;34m\u001b[0m\u001b[0;34m\u001b[0m\u001b[0m\n\u001b[0m\u001b[1;32m     12\u001b[0m \u001b[0mcleaned_weights\u001b[0m \u001b[0;34m=\u001b[0m \u001b[0mef\u001b[0m\u001b[0;34m.\u001b[0m\u001b[0mclean_weights\u001b[0m\u001b[0;34m(\u001b[0m\u001b[0;34m)\u001b[0m\u001b[0;34m\u001b[0m\u001b[0;34m\u001b[0m\u001b[0m\n\u001b[1;32m     13\u001b[0m \u001b[0mprint\u001b[0m\u001b[0;34m(\u001b[0m\u001b[0mcleaned_weights\u001b[0m\u001b[0;34m)\u001b[0m\u001b[0;34m\u001b[0m\u001b[0;34m\u001b[0m\u001b[0m\n",
            "\u001b[0;32m/usr/local/lib/python3.9/dist-packages/pypfopt/efficient_frontier/efficient_frontier.py\u001b[0m in \u001b[0;36mmax_sharpe\u001b[0;34m(self, risk_free_rate)\u001b[0m\n\u001b[1;32m    291\u001b[0m         ] + new_constraints\n\u001b[1;32m    292\u001b[0m \u001b[0;34m\u001b[0m\u001b[0m\n\u001b[0;32m--> 293\u001b[0;31m         \u001b[0mself\u001b[0m\u001b[0;34m.\u001b[0m\u001b[0m_solve_cvxpy_opt_problem\u001b[0m\u001b[0;34m(\u001b[0m\u001b[0;34m)\u001b[0m\u001b[0;34m\u001b[0m\u001b[0;34m\u001b[0m\u001b[0m\n\u001b[0m\u001b[1;32m    294\u001b[0m         \u001b[0;31m# Inverse-transform\u001b[0m\u001b[0;34m\u001b[0m\u001b[0;34m\u001b[0m\u001b[0m\n\u001b[1;32m    295\u001b[0m         \u001b[0mself\u001b[0m\u001b[0;34m.\u001b[0m\u001b[0mweights\u001b[0m \u001b[0;34m=\u001b[0m \u001b[0;34m(\u001b[0m\u001b[0mself\u001b[0m\u001b[0;34m.\u001b[0m\u001b[0m_w\u001b[0m\u001b[0;34m.\u001b[0m\u001b[0mvalue\u001b[0m \u001b[0;34m/\u001b[0m \u001b[0mk\u001b[0m\u001b[0;34m.\u001b[0m\u001b[0mvalue\u001b[0m\u001b[0;34m)\u001b[0m\u001b[0;34m.\u001b[0m\u001b[0mround\u001b[0m\u001b[0;34m(\u001b[0m\u001b[0;36m16\u001b[0m\u001b[0;34m)\u001b[0m \u001b[0;34m+\u001b[0m \u001b[0;36m0.0\u001b[0m\u001b[0;34m\u001b[0m\u001b[0;34m\u001b[0m\u001b[0m\n",
            "\u001b[0;32m/usr/local/lib/python3.9/dist-packages/pypfopt/base_optimizer.py\u001b[0m in \u001b[0;36m_solve_cvxpy_opt_problem\u001b[0;34m(self)\u001b[0m\n\u001b[1;32m    305\u001b[0m                         \u001b[0;34m\"Please create a new instance instead.\"\u001b[0m\u001b[0;34m\u001b[0m\u001b[0;34m\u001b[0m\u001b[0m\n\u001b[1;32m    306\u001b[0m                     )\n\u001b[0;32m--> 307\u001b[0;31m             self._opt.solve(\n\u001b[0m\u001b[1;32m    308\u001b[0m                 \u001b[0msolver\u001b[0m\u001b[0;34m=\u001b[0m\u001b[0mself\u001b[0m\u001b[0;34m.\u001b[0m\u001b[0m_solver\u001b[0m\u001b[0;34m,\u001b[0m \u001b[0mverbose\u001b[0m\u001b[0;34m=\u001b[0m\u001b[0mself\u001b[0m\u001b[0;34m.\u001b[0m\u001b[0m_verbose\u001b[0m\u001b[0;34m,\u001b[0m \u001b[0;34m**\u001b[0m\u001b[0mself\u001b[0m\u001b[0;34m.\u001b[0m\u001b[0m_solver_options\u001b[0m\u001b[0;34m\u001b[0m\u001b[0;34m\u001b[0m\u001b[0m\n\u001b[1;32m    309\u001b[0m             )\n",
            "\u001b[0;32m/usr/local/lib/python3.9/dist-packages/cvxpy/problems/problem.py\u001b[0m in \u001b[0;36msolve\u001b[0;34m(self, *args, **kwargs)\u001b[0m\n\u001b[1;32m    491\u001b[0m         \u001b[0;32melse\u001b[0m\u001b[0;34m:\u001b[0m\u001b[0;34m\u001b[0m\u001b[0;34m\u001b[0m\u001b[0m\n\u001b[1;32m    492\u001b[0m             \u001b[0msolve_func\u001b[0m \u001b[0;34m=\u001b[0m \u001b[0mProblem\u001b[0m\u001b[0;34m.\u001b[0m\u001b[0m_solve\u001b[0m\u001b[0;34m\u001b[0m\u001b[0;34m\u001b[0m\u001b[0m\n\u001b[0;32m--> 493\u001b[0;31m         \u001b[0;32mreturn\u001b[0m \u001b[0msolve_func\u001b[0m\u001b[0;34m(\u001b[0m\u001b[0mself\u001b[0m\u001b[0;34m,\u001b[0m \u001b[0;34m*\u001b[0m\u001b[0margs\u001b[0m\u001b[0;34m,\u001b[0m \u001b[0;34m**\u001b[0m\u001b[0mkwargs\u001b[0m\u001b[0;34m)\u001b[0m\u001b[0;34m\u001b[0m\u001b[0;34m\u001b[0m\u001b[0m\n\u001b[0m\u001b[1;32m    494\u001b[0m \u001b[0;34m\u001b[0m\u001b[0m\n\u001b[1;32m    495\u001b[0m     \u001b[0;34m@\u001b[0m\u001b[0mclassmethod\u001b[0m\u001b[0;34m\u001b[0m\u001b[0;34m\u001b[0m\u001b[0m\n",
            "\u001b[0;32m/usr/local/lib/python3.9/dist-packages/cvxpy/problems/problem.py\u001b[0m in \u001b[0;36m_solve\u001b[0;34m(self, solver, warm_start, verbose, gp, qcp, requires_grad, enforce_dpp, ignore_dpp, canon_backend, **kwargs)\u001b[0m\n\u001b[1;32m   1062\u001b[0m                     solving_chain.reductions[-1].name())\n\u001b[1;32m   1063\u001b[0m         \u001b[0mstart\u001b[0m \u001b[0;34m=\u001b[0m \u001b[0mtime\u001b[0m\u001b[0;34m.\u001b[0m\u001b[0mtime\u001b[0m\u001b[0;34m(\u001b[0m\u001b[0;34m)\u001b[0m\u001b[0;34m\u001b[0m\u001b[0;34m\u001b[0m\u001b[0m\n\u001b[0;32m-> 1064\u001b[0;31m         solution = solving_chain.solve_via_data(\n\u001b[0m\u001b[1;32m   1065\u001b[0m             self, data, warm_start, verbose, kwargs)\n\u001b[1;32m   1066\u001b[0m         \u001b[0mend\u001b[0m \u001b[0;34m=\u001b[0m \u001b[0mtime\u001b[0m\u001b[0;34m.\u001b[0m\u001b[0mtime\u001b[0m\u001b[0;34m(\u001b[0m\u001b[0;34m)\u001b[0m\u001b[0;34m\u001b[0m\u001b[0;34m\u001b[0m\u001b[0m\n",
            "\u001b[0;32m/usr/local/lib/python3.9/dist-packages/cvxpy/reductions/solvers/solving_chain.py\u001b[0m in \u001b[0;36msolve_via_data\u001b[0;34m(self, problem, data, warm_start, verbose, solver_opts)\u001b[0m\n\u001b[1;32m    408\u001b[0m             \u001b[0ma\u001b[0m \u001b[0mSolution\u001b[0m \u001b[0mobject\u001b[0m\u001b[0;34m.\u001b[0m\u001b[0;34m\u001b[0m\u001b[0;34m\u001b[0m\u001b[0m\n\u001b[1;32m    409\u001b[0m         \"\"\"\n\u001b[0;32m--> 410\u001b[0;31m         return self.solver.solve_via_data(data, warm_start, verbose,\n\u001b[0m\u001b[1;32m    411\u001b[0m                                           solver_opts, problem._solver_cache)\n",
            "\u001b[0;32m/usr/local/lib/python3.9/dist-packages/cvxpy/reductions/solvers/qp_solvers/osqp_qpif.py\u001b[0m in \u001b[0;36msolve_via_data\u001b[0;34m(self, data, warm_start, verbose, solver_opts, solver_cache)\u001b[0m\n\u001b[1;32m    102\u001b[0m                 \u001b[0msolver\u001b[0m\u001b[0;34m.\u001b[0m\u001b[0msetup\u001b[0m\u001b[0;34m(\u001b[0m\u001b[0mP\u001b[0m\u001b[0;34m,\u001b[0m \u001b[0mq\u001b[0m\u001b[0;34m,\u001b[0m \u001b[0mA\u001b[0m\u001b[0;34m,\u001b[0m \u001b[0mlA\u001b[0m\u001b[0;34m,\u001b[0m \u001b[0muA\u001b[0m\u001b[0;34m,\u001b[0m \u001b[0mverbose\u001b[0m\u001b[0;34m=\u001b[0m\u001b[0mverbose\u001b[0m\u001b[0;34m,\u001b[0m \u001b[0;34m**\u001b[0m\u001b[0msolver_opts\u001b[0m\u001b[0;34m)\u001b[0m\u001b[0;34m\u001b[0m\u001b[0;34m\u001b[0m\u001b[0m\n\u001b[1;32m    103\u001b[0m             \u001b[0;32mexcept\u001b[0m \u001b[0mValueError\u001b[0m \u001b[0;32mas\u001b[0m \u001b[0me\u001b[0m\u001b[0;34m:\u001b[0m\u001b[0;34m\u001b[0m\u001b[0;34m\u001b[0m\u001b[0m\n\u001b[0;32m--> 104\u001b[0;31m                 \u001b[0;32mraise\u001b[0m \u001b[0mSolverError\u001b[0m\u001b[0;34m(\u001b[0m\u001b[0me\u001b[0m\u001b[0;34m)\u001b[0m\u001b[0;34m\u001b[0m\u001b[0;34m\u001b[0m\u001b[0m\n\u001b[0m\u001b[1;32m    105\u001b[0m \u001b[0;34m\u001b[0m\u001b[0m\n\u001b[1;32m    106\u001b[0m         \u001b[0mresults\u001b[0m \u001b[0;34m=\u001b[0m \u001b[0msolver\u001b[0m\u001b[0;34m.\u001b[0m\u001b[0msolve\u001b[0m\u001b[0;34m(\u001b[0m\u001b[0;34m)\u001b[0m\u001b[0;34m\u001b[0m\u001b[0;34m\u001b[0m\u001b[0m\n",
            "\u001b[0;31mSolverError\u001b[0m: Workspace allocation error!"
          ]
        }
      ]
    }
  ]
}