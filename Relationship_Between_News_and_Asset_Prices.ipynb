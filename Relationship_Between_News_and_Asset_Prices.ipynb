{
  "nbformat": 4,
  "nbformat_minor": 0,
  "metadata": {
    "colab": {
      "provenance": [],
      "authorship_tag": "ABX9TyP/7YB8PdMHsG5O5uFxnR6I",
      "include_colab_link": true
    },
    "kernelspec": {
      "name": "python3",
      "display_name": "Python 3"
    },
    "language_info": {
      "name": "python"
    }
  },
  "cells": [
    {
      "cell_type": "markdown",
      "metadata": {
        "id": "view-in-github",
        "colab_type": "text"
      },
      "source": [
        "<a href=\"https://colab.research.google.com/github/patrick-seib/econ-416/blob/master/Relationship_Between_News_and_Asset_Prices.ipynb\" target=\"_parent\"><img src=\"https://colab.research.google.com/assets/colab-badge.svg\" alt=\"Open In Colab\"/></a>"
      ]
    },
    {
      "cell_type": "markdown",
      "source": [
        "# **News and Asset Prices**\n",
        "by Patrick Seib"
      ],
      "metadata": {
        "id": "zVnQ-9vwphQT"
      }
    },
    {
      "cell_type": "code",
      "execution_count": null,
      "metadata": {
        "colab": {
          "base_uri": "https://localhost:8080/"
        },
        "id": "92BbZ390lK9P",
        "outputId": "bee2a2e7-5855-4081-e0a8-a3f732cb6d81"
      },
      "outputs": [
        {
          "output_type": "stream",
          "name": "stdout",
          "text": [
            "Mounted at /content/drive/\n"
          ]
        }
      ],
      "source": [
        "import numpy as np\n",
        "import pandas as pd\n",
        "from matplotlib import pyplot as plt\n",
        "import statistics\n",
        "\n",
        "from google.colab import drive\n",
        "drive.mount('/content/drive/')\n",
        "xls = pd.ExcelFile('/content/drive/My Drive/dataEP2_2020.xlsx')\n",
        "df_total = pd.read_excel(xls)\n",
        "df_wsj = pd.read_excel(xls, 'WSJ Forecasting')\n",
        "df_employment_changes = pd.read_excel(xls, 'Change in Non-Farm Employment')\n",
        "df_sp = pd.read_excel(xls, 'S&P 500')\n",
        "df_3m_bill = pd.read_excel(xls, '3m T-bill')\n",
        "df_1yr_bill = pd.read_excel(xls, '1 year Bond')\n",
        "df_10yr_bill = pd.read_excel(xls, '10 year Bond')"
      ]
    },
    {
      "cell_type": "markdown",
      "source": [
        "The first part of this analysis is to see how good the forecasters at the Wall Street Journal are at estimating the actual change in jobs effect."
      ],
      "metadata": {
        "id": "4612OpkpeAM9"
      }
    },
    {
      "cell_type": "code",
      "source": [
        "fig = plt.figure(figsize=(15,6))\n",
        "x_0 = df_wsj.Forecast[:168]\n",
        "x_1 = df_employment_changes.Jobs[:168]\n",
        "\n",
        "plt.scatter(x_1, x_0)"
      ],
      "metadata": {
        "colab": {
          "base_uri": "https://localhost:8080/",
          "height": 415
        },
        "id": "_UN6IVxhsxia",
        "outputId": "ada96d2f-669d-4805-f124-36ad200db080"
      },
      "execution_count": null,
      "outputs": [
        {
          "output_type": "execute_result",
          "data": {
            "text/plain": [
              "<matplotlib.collections.PathCollection at 0x7fdb1769eaf0>"
            ]
          },
          "metadata": {},
          "execution_count": 5
        },
        {
          "output_type": "display_data",
          "data": {
            "text/plain": [
              "<Figure size 1080x432 with 1 Axes>"
            ],
            "image/png": "[encoded data removed]"
          },
          "metadata": {
            "needs_background": "light"
          }
        }
      ]
    },
    {
      "cell_type": "markdown",
      "source": [
        "There are many ways to check the validity of the forecast, but I will use a t-test that compares the two means of the groups. Another useful tool will be simply looking at the plot of the two groups together."
      ],
      "metadata": {
        "id": "m_Ste5EYeEZc"
      }
    },
    {
      "cell_type": "code",
      "source": [
        "from scipy.stats import ttest_ind\n",
        "\n",
        "# Running the Welch's t-test\n",
        "ttest_ind(x_0, x_1, equal_var=False)"
      ],
      "metadata": {
        "colab": {
          "base_uri": "https://localhost:8080/"
        },
        "id": "P2drCX0ckYxj",
        "outputId": "b5ac488e-891e-48b5-82a5-118d984be810"
      },
      "execution_count": null,
      "outputs": [
        {
          "output_type": "execute_result",
          "data": {
            "text/plain": [
              "Ttest_indResult(statistic=6.364861678110199, pvalue=6.65262457850508e-10)"
            ]
          },
          "metadata": {},
          "execution_count": 3
        }
      ]
    },
    {
      "cell_type": "markdown",
      "source": [
        "Given these results, we're able to reject the null hypothesis that the two means are equivalent. This is the first indicator that the WSJ forecasts may not be a good estimator for actual job movement."
      ],
      "metadata": {
        "id": "r8ezpCfXlu4h"
      }
    },
    {
      "cell_type": "code",
      "source": [
        "fig = plt.figure(figsize=(15,6))\n",
        "y = df_wsj.Date[:168]\n",
        "plt.plot(y, x_0, label=\"Forecast\")\n",
        "plt.plot(y, x_1, label=\"Actual job change\")\n",
        "\n",
        "plt.legend()"
      ],
      "metadata": {
        "colab": {
          "base_uri": "https://localhost:8080/",
          "height": 402
        },
        "id": "X2aeRnnNm5Yx",
        "outputId": "3fbae4b0-8b7e-4a3a-f415-90ac0dc3779f"
      },
      "execution_count": null,
      "outputs": [
        {
          "output_type": "execute_result",
          "data": {
            "text/plain": [
              "<matplotlib.legend.Legend at 0x7fdb1767fcd0>"
            ]
          },
          "metadata": {},
          "execution_count": 6
        },
        {
          "output_type": "display_data",
          "data": {
            "text/plain": [
              "<Figure size 1080x432 with 1 Axes>"
            ],
            "image/png": "[encoded data removed]"
          },
          "metadata": {
            "needs_background": "light"
          }
        }
      ]
    },
    {
      "cell_type": "markdown",
      "source": [
        "Graphically analyzing this shows that when movement is small, the trends in the WSJ forecasts generally fall in line with the real data, even if it is consistently higher, but the outliers are far outside the grasp of the forecasts. "
      ],
      "metadata": {
        "id": "eRiv_IkLn3z_"
      }
    },
    {
      "cell_type": "code",
      "source": [
        "from sklearn.linear_model import LinearRegression\n",
        "linear_regressor = LinearRegression()\n",
        "\n",
        "fig = plt.figure(figsize=(15,6))\n",
        "\n",
        "#cleaning the data\n",
        "df1 = df_employment_changes[df_employment_changes.Jobs.notnull()]\n",
        "df2 = df_wsj.copy()\n",
        "df2.drop(df2.tail(1).index, inplace=True)\n",
        "X_0 = df2.iloc[:, 1].values.reshape(-1, 1)\n",
        "X_1 = df1.iloc[:, 1].values.reshape(-1, 1)\n",
        "\n",
        "#fitting regression\n",
        "linear_regressor.fit(X_0, X_1)\n",
        "\n",
        "plt.scatter(X_1,X_0)\n",
        "Y_pred = linear_regressor.predict(X_0)\n",
        "plt.plot(X_0, Y_pred, color='red')"
      ],
      "metadata": {
        "colab": {
          "base_uri": "https://localhost:8080/",
          "height": 415
        },
        "id": "YmXrJ6mKglbN",
        "outputId": "b2405379-5c4e-48ad-9e82-4d557e16d617"
      },
      "execution_count": null,
      "outputs": [
        {
          "output_type": "execute_result",
          "data": {
            "text/plain": [
              "[<matplotlib.lines.Line2D at 0x7fdb16a85670>]"
            ]
          },
          "metadata": {},
          "execution_count": 7
        },
        {
          "output_type": "display_data",
          "data": {
            "text/plain": [
              "<Figure size 1080x432 with 1 Axes>"
            ],
            "image/png": "[encoded data removed]"
          },
          "metadata": {
            "needs_background": "light"
          }
        }
      ]
    },
    {
      "cell_type": "markdown",
      "source": [
        "This regression result shows the same result from the previous analysis, the variables plotted against each other show that outliers are very difficult to capture in the model, and there is a lot of concentration around 0. The forecasted values account for the majority of the upper bound.\n",
        "\n",
        "The next part of this analysis is measuring the volatility of asset returns. To measure volatility, I'll compare the variance between each series of the s&p 500 data, and also all of the T-Bill returns."
      ],
      "metadata": {
        "id": "7NAr7btv-ko9"
      }
    },
    {
      "cell_type": "code",
      "source": [
        "df_sp.var(numeric_only=True)"
      ],
      "metadata": {
        "id": "v3o4h2U-2Qyp",
        "colab": {
          "base_uri": "https://localhost:8080/"
        },
        "outputId": "9192ee63-0343-4450-f707-2a20d2e73b1a"
      },
      "execution_count": null,
      "outputs": [
        {
          "output_type": "execute_result",
          "data": {
            "text/plain": [
              "-2.0    0.000125\n",
              "-1.0    0.000118\n",
              "0.0     0.000156\n",
              "1.0     0.000132\n",
              "2.0     0.000140\n",
              "dtype: float64"
            ]
          },
          "metadata": {},
          "execution_count": 8
        }
      ]
    },
    {
      "cell_type": "markdown",
      "source": [
        "The highest variance for s&p500 returns happens on the day of the data release, and it's lowest the day before. However, it \"explains\" very little of the data at all."
      ],
      "metadata": {
        "id": "01kw3MKgKpSv"
      }
    },
    {
      "cell_type": "code",
      "source": [
        "df_3m_bill.var(numeric_only=True)"
      ],
      "metadata": {
        "colab": {
          "base_uri": "https://localhost:8080/"
        },
        "id": "OZqaKn-WKwN4",
        "outputId": "5771863c-f3e1-45aa-a0df-de2767b843a5"
      },
      "execution_count": null,
      "outputs": [
        {
          "output_type": "execute_result",
          "data": {
            "text/plain": [
              "-2.0    0.062532\n",
              "-1.0    0.056721\n",
              "0.0     0.025476\n",
              "1.0     0.223396\n",
              "2.0     0.019768\n",
              "dtype: float64"
            ]
          },
          "metadata": {},
          "execution_count": 9
        }
      ]
    },
    {
      "cell_type": "markdown",
      "source": [
        "The day after the release of the data release has by far the highest variance for 3m t-bills, which speaks to the volatility of the asset generally."
      ],
      "metadata": {
        "id": "Y3NpJ2Z-K22c"
      }
    },
    {
      "cell_type": "code",
      "source": [
        "df_1yr_bill.var(numeric_only=True)"
      ],
      "metadata": {
        "colab": {
          "base_uri": "https://localhost:8080/"
        },
        "id": "vLX3QbPdK9pb",
        "outputId": "6dfa0b6f-c32f-4161-ea33-907de04b6bf9"
      },
      "execution_count": null,
      "outputs": [
        {
          "output_type": "execute_result",
          "data": {
            "text/plain": [
              "-2.0    0.002511\n",
              "-1.0    0.003173\n",
              "0.0     0.005369\n",
              "1.0     0.003685\n",
              "2.0     0.004743\n",
              "dtype: float64"
            ]
          },
          "metadata": {},
          "execution_count": 10
        }
      ]
    },
    {
      "cell_type": "markdown",
      "source": [
        "As expected, 1 year t-bills have a lower variance than 3 month bills. The variance is highest on the day of the release of the data."
      ],
      "metadata": {
        "id": "xno3zOXrLB-7"
      }
    },
    {
      "cell_type": "code",
      "source": [
        "df_10yr_bill.var(numeric_only=True)"
      ],
      "metadata": {
        "colab": {
          "base_uri": "https://localhost:8080/"
        },
        "id": "BsTRgf08LMgG",
        "outputId": "51e932a9-3283-454b-ec54-d5c8e6856b13"
      },
      "execution_count": null,
      "outputs": [
        {
          "output_type": "execute_result",
          "data": {
            "text/plain": [
              "-2.0    0.000825\n",
              "-1.0    0.000801\n",
              "0.0     0.001225\n",
              "1.0     0.001137\n",
              "2.0     0.001598\n",
              "dtype: float64"
            ]
          },
          "metadata": {},
          "execution_count": 11
        }
      ]
    },
    {
      "cell_type": "markdown",
      "source": [
        "The variance of 10 year bills is extremely small, but is highest at 2 days out after the release of the data.\n",
        "\n",
        "The next part of this analysis is to estimate the relationship between effect of employment numbers on each asset."
      ],
      "metadata": {
        "id": "GjylBTIlLSF3"
      }
    },
    {
      "cell_type": "code",
      "source": [
        "#reshaping employment change data\n",
        "df1 = df_employment_changes[df_employment_changes.Jobs.notnull()]\n",
        "Y = df1.iloc[:, 1].values.reshape(-1,1)\n",
        "\n",
        "#reshaping sp, 3m, 1yr, and 10yr data to match employement changes data\n",
        "df_sp_reshaped = df_sp.copy()\n",
        "df_sp_reshaped.drop(df_sp_reshaped.tail(4).index, inplace=True)\n",
        "\n",
        "df_3m_reshaped = df_3m_bill.copy()\n",
        "df_3m_reshaped.drop(df_3m_reshaped.tail(4).index, inplace=True)\n",
        "\n",
        "df_1yr_reshaped = df_1yr_bill.copy()\n",
        "df_1yr_reshaped.drop(df_1yr_reshaped.tail(4).index, inplace=True)\n",
        "\n",
        "df_10yr_reshaped = df_10yr_bill.copy()\n",
        "df_10yr_reshaped.drop(df_10yr_reshaped.tail(4).index, inplace=True)\n",
        "\n",
        "\n",
        "def get_r_squared(dataframe, y_value):\n",
        "  #### Function that calculates the r-squared values of the fitted regression\n",
        "  #### given a two series objects. This function returns all 5 R^2 from the\n",
        "  #### -2 to +2 days after a data release in order\n",
        "\n",
        "  X_1 = dataframe.iloc[:, 1].values.reshape(-1, 1)\n",
        "  X_2 = dataframe.iloc[:, 2].values.reshape(-1, 1)\n",
        "  X_3 = dataframe.iloc[:, 3].values.reshape(-1, 1)\n",
        "  X_4 = dataframe.iloc[:, 4].values.reshape(-1, 1)\n",
        "  X_5 = dataframe.iloc[:, 5].values.reshape(-1, 1)\n",
        "\n",
        "  #initialize regressor object\n",
        "  linear_regressor = LinearRegression()\n",
        "\n",
        "  #fits the regressions and then calculates and prints the R^2 value\n",
        "  linear_regressor.fit(y_value, X_1)\n",
        "  print(linear_regressor.score(y_value, X_1))\n",
        "  linear_regressor.fit(y_value, X_2)\n",
        "  print(linear_regressor.score(y_value, X_2))\n",
        "  linear_regressor.fit(y_value, X_3)\n",
        "  print(linear_regressor.score(y_value, X_3))\n",
        "  linear_regressor.fit(y_value, X_4)\n",
        "  print(linear_regressor.score(y_value, X_4))\n",
        "  linear_regressor.fit(y_value, X_5)\n",
        "  print(linear_regressor.score(y_value, X_5))\n",
        "\n",
        "get_r_squared(df_sp_reshaped, Y)"
      ],
      "metadata": {
        "colab": {
          "base_uri": "https://localhost:8080/"
        },
        "id": "xb-ak0qLLspL",
        "outputId": "7845ca37-e27f-4bcc-b06e-95b14abcbaf3"
      },
      "execution_count": null,
      "outputs": [
        {
          "output_type": "stream",
          "name": "stdout",
          "text": [
            "0.032856968139300835\n",
            "0.0016646469489673965\n",
            "0.0032710534002389213\n",
            "0.0025105220941968875\n",
            "1.9174834670399044e-05\n"
          ]
        }
      ]
    },
    {
      "cell_type": "markdown",
      "source": [
        "The R^2 values for the s&p 500 data show that a linear regression is a poor estimator for capturing the trends of the data, meaning that the linear relationship between s&p 500 data and employment numbers is weak."
      ],
      "metadata": {
        "id": "eWm2V1teeC8V"
      }
    },
    {
      "cell_type": "code",
      "source": [
        "get_r_squared(df_3m_reshaped, Y)"
      ],
      "metadata": {
        "colab": {
          "base_uri": "https://localhost:8080/"
        },
        "id": "hE-AY-87e0le",
        "outputId": "44aa8f8d-15a0-45f9-a739-f3a766c3db69"
      },
      "execution_count": null,
      "outputs": [
        {
          "output_type": "stream",
          "name": "stdout",
          "text": [
            "0.00019700028346736342\n",
            "2.8464244382631065e-05\n",
            "4.413427955485272e-05\n",
            "0.0008891391964598316\n",
            "0.0007250756296905969\n"
          ]
        }
      ]
    },
    {
      "cell_type": "markdown",
      "source": [
        "The greatest influence the actual data has on the price of a 3m bond return is even smaller than the s&p500 asset influence, but is largest the day after the release."
      ],
      "metadata": {
        "id": "QwCloxWShbdH"
      }
    },
    {
      "cell_type": "code",
      "source": [
        "get_r_squared(df_1yr_reshaped, Y)"
      ],
      "metadata": {
        "colab": {
          "base_uri": "https://localhost:8080/"
        },
        "id": "uDBpKQUYhhlf",
        "outputId": "be806084-4bff-418c-840c-b8198e99e4be"
      },
      "execution_count": null,
      "outputs": [
        {
          "output_type": "stream",
          "name": "stdout",
          "text": [
            "0.006314290373170883\n",
            "0.007315389826179963\n",
            "0.00019637883979084503\n",
            "0.012240738562334319\n",
            "0.0019916861294579924\n"
          ]
        }
      ]
    },
    {
      "cell_type": "markdown",
      "source": [
        "One year t-bills seem to have the largest reaction to employment numbers, but it's still relatively small."
      ],
      "metadata": {
        "id": "gJoszBi5hntO"
      }
    },
    {
      "cell_type": "code",
      "source": [
        "get_r_squared(df_10yr_reshaped, Y)"
      ],
      "metadata": {
        "colab": {
          "base_uri": "https://localhost:8080/"
        },
        "id": "rgGwSaN_hz2f",
        "outputId": "45c77234-afbf-4438-efc2-984440c1c4b0"
      },
      "execution_count": null,
      "outputs": [
        {
          "output_type": "stream",
          "name": "stdout",
          "text": [
            "0.01970728569508773\n",
            "1.8660779084966883e-05\n",
            "0.002419468806119207\n",
            "0.00012777230933169736\n",
            "0.010325151345771277\n"
          ]
        }
      ]
    },
    {
      "cell_type": "markdown",
      "source": [
        "The employment values are still a very small proportion of the explained data.\n",
        "\n",
        "The next part of this analysis will measure the effect of the \"surprise\" on asset prices. Starting with s&p500 data.."
      ],
      "metadata": {
        "id": "SmpWuw3wh6jB"
      }
    },
    {
      "cell_type": "code",
      "source": [
        "forecast = df_wsj.Forecast[:168]\n",
        "release = df_employment_changes.Jobs[:168]\n",
        "\n",
        "news = forecast - release\n",
        "\n",
        "news = news.reset_index().to_numpy()\n",
        "print(\"S&P 500 Data\")\n",
        "get_r_squared(df_sp_reshaped, news)\n",
        "print(\"3m T-Bills\")\n",
        "get_r_squared(df_3m_reshaped, news)\n",
        "print(\"1yr T-Bills\")\n",
        "get_r_squared(df_1yr_reshaped, news)\n",
        "print(\"10yr T-Bills\")\n",
        "get_r_squared(df_10yr_reshaped, news)"
      ],
      "metadata": {
        "id": "OSwyZ3k1n6Lm",
        "colab": {
          "base_uri": "https://localhost:8080/"
        },
        "outputId": "026ba5f6-b775-4502-9697-4d4aacac230c"
      },
      "execution_count": null,
      "outputs": [
        {
          "output_type": "stream",
          "name": "stdout",
          "text": [
            "S&P 500 Data\n",
            "0.061732742888676806\n",
            "0.005633591259457504\n",
            "0.04906734436452542\n",
            "0.00810747206330309\n",
            "0.009120266275717936\n",
            "3m T-Bills\n",
            "0.010942671890887379\n",
            "0.0036471016094234976\n",
            "0.002753516161374092\n",
            "0.0007312137036959987\n",
            "0.010898864646249229\n",
            "1yr T-Bills\n",
            "0.0537404277801119\n",
            "0.07043891394309598\n",
            "0.00944240833961163\n",
            "0.003066647886878271\n",
            "0.08396981758456223\n",
            "10yr T-Bills\n",
            "0.06914989601248478\n",
            "0.042002118648391096\n",
            "0.12263258546331357\n",
            "0.11513951079002838\n",
            "0.43137148974306727\n"
          ]
        }
      ]
    },
    {
      "cell_type": "markdown",
      "source": [
        "The explained portion of the asset price change by the \"surprise\" is larger than any of the actual effects of employment change. It seems that the surprise has the largest effect on the returns of 10yr bonds."
      ],
      "metadata": {
        "id": "ngiVcV28VkCr"
      }
    },
    {
      "cell_type": "markdown",
      "source": [
        "Then, we check the effect of the forecast on asset prices"
      ],
      "metadata": {
        "id": "8eqNu_ssq2pJ"
      }
    },
    {
      "cell_type": "code",
      "source": [
        "forecast = forecast.reset_index().to_numpy()\n",
        "\n",
        "print(\"S&P 500 Data\")\n",
        "get_r_squared(df_sp_reshaped, forecast)\n",
        "print(\"3m T-Bills\")\n",
        "get_r_squared(df_3m_reshaped, forecast)\n",
        "print(\"1yr T-Bills\")\n",
        "get_r_squared(df_1yr_reshaped, forecast)\n",
        "print(\"10yr T-Bills\")\n",
        "get_r_squared(df_10yr_reshaped, forecast)"
      ],
      "metadata": {
        "id": "i4m4HXGprl7I",
        "colab": {
          "base_uri": "https://localhost:8080/"
        },
        "outputId": "75e6b3d6-353c-4d74-fbcc-698c8075bed2"
      },
      "execution_count": null,
      "outputs": [
        {
          "output_type": "stream",
          "name": "stdout",
          "text": [
            "S&P 500 Data\n",
            "0.022042874050590133\n",
            "0.00316657007059018\n",
            "0.0839103357198987\n",
            "0.014005695198304746\n",
            "0.0102482991861792\n",
            "3m T-Bills\n",
            "0.011574495996686252\n",
            "0.0054680679075326255\n",
            "0.004556424840863937\n",
            "0.0031609613048898533\n",
            "0.009899808887413486\n",
            "1yr T-Bills\n",
            "0.0416584859517074\n",
            "0.05680943208423217\n",
            "0.015360996861662368\n",
            "0.009185329491789074\n",
            "0.08868594455932488\n",
            "10yr T-Bills\n",
            "0.03534350299081701\n",
            "0.05992503936874394\n",
            "0.206781316276356\n",
            "0.16746533187280155\n",
            "0.467441047572009\n"
          ]
        }
      ]
    },
    {
      "cell_type": "markdown",
      "source": [
        "It seems that there is a larger proportion of the data explained by forecasts than either the real employment numbers or the \"surprise\". This also might be an indirect effect, because the forecast was usually quite a bit higher than the actual return numbers. If there were other factors causing the high average asset returns, such as low interest rates causing asset price inflation outside productivity increases, that could make the on average high forecast look like a better estimator than it actually is."
      ],
      "metadata": {
        "id": "NHXjcTknYxbG"
      }
    }
  ]
}